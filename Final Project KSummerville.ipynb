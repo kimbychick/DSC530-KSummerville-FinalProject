{
 "cells": [
  {
   "cell_type": "code",
   "execution_count": 1,
   "metadata": {},
   "outputs": [],
   "source": [
    "from __future__ import print_function, division\n",
    "\n",
    "import sys\n",
    "import numpy as np\n",
    "import thinkstats2\n",
    "\n",
    "from collections import defaultdict\n",
    "\n",
    "import pandas\n",
    "import thinkplot\n",
    "import analytic\n",
    "import statsmodels.formula.api as smf\n",
    "\n",
    "data = pandas.read_csv('Summer Olympic medals 1976 to 2008.csv', \n",
    "                       encoding = \"ISO-8859-1\",\n",
    "                       keep_default_na=False, \n",
    "                       na_values=[\"\",\"NaN\",\"NA\"]\n",
    "                      )\n",
    "df = pandas.DataFrame(data)"
   ]
  },
  {
   "cell_type": "code",
   "execution_count": 2,
   "metadata": {},
   "outputs": [],
   "source": [
    "'''CLEANING THE DATA'''\n",
    "\n",
    "# Remove null values; There are 117 rows that are null across all variables\n",
    "df=df.dropna(axis=0, how='any')\n",
    "\n",
    "#Convert 'Year' from float to int \n",
    "df['Year'] = df['Year'].astype('object',copy=False) "
   ]
  },
  {
   "cell_type": "code",
   "execution_count": 3,
   "metadata": {},
   "outputs": [],
   "source": [
    "'''CREATE NEW COLUMNS BASED ON CURRENT COLUMNS'''\n",
    "\n",
    "#Create new column with Host Country based on the City column\n",
    "conditions = [(df['City'] == 'Montreal'),\n",
    "             (df['City'] == 'Moscow'),\n",
    "             (df['City'] == 'Los Angeles'),\n",
    "             (df['City'] == 'Seoul'),\n",
    "             (df['City'] == 'Barcelona'),\n",
    "             (df['City'] == 'Atlanta'),\n",
    "             (df['City'] == 'Sydney'),\n",
    "             (df['City'] == 'Athens'),\n",
    "             (df['City'] == 'Beijing')]\n",
    "\n",
    "#Mapping the city to the country. \n",
    "choices = ['Canada',\n",
    "          'Russia',\n",
    "          'United States',\n",
    "          'Korea, South',\n",
    "          'Spain',\n",
    "          'United States',\n",
    "          'Australia',\n",
    "          'Greece', \n",
    "          'China']\n",
    "\n",
    "df['Host_Country'] = np.select(conditions, choices, default = '0')\n",
    "\n",
    "#Replace \"Soviet Union\" in the Country name with Russia\n",
    "df['Country'] = df['Country'].replace(['Soviet Union'],'Russia')\n",
    "\n",
    "#Replace \"East Germany\" in the Country name with Germany\n",
    "df['Country'] = df['Country'].replace(['East Germany'],'Germany')\n",
    "\n",
    "#Create a new column with 0/1 options based on if the host country won the medal\n",
    "df[\"Host_Win\"] = np.where(df['Host_Country'] == df['Country'], '1', '0')\n",
    "\n",
    "\n",
    "#While East Germany and the Soviet Union were countries at the time of the Olympics in which they won medals,\n",
    "#they have been updated to allow for correct statistical calculations"
   ]
  },
  {
   "cell_type": "code",
   "execution_count": 4,
   "metadata": {},
   "outputs": [],
   "source": [
    "#Create dfs with just winners from the host country and just winners from countries not the host\n",
    "Host_Winners = df[df.Host_Win == '1']\n",
    "Other_Winners = df[df.Host_Win == '0']"
   ]
  },
  {
   "cell_type": "code",
   "execution_count": 5,
   "metadata": {},
   "outputs": [],
   "source": [
    "#Create df with just host countries, regardless if they won that year\n",
    "Host_Countries = df[df.Country.isin(['Canada',\n",
    "          'Russia',\n",
    "          'United States',\n",
    "          'Korea, South',\n",
    "          'Spain',\n",
    "          'Australia',\n",
    "          'Greece', \n",
    "          'China'])]\n",
    "\n",
    "#Create df with the host country wins for every other year than the year they hosted\n",
    "Host_Countries_Other = Host_Countries[Host_Countries.Host_Win == '0']\n",
    "\n",
    "#Create df of all other countries that did not host\n",
    "Other_Countries = df[-df.Country.isin(['Canada',\n",
    "          'Russia',\n",
    "          'United States',\n",
    "          'Korea, South',\n",
    "          'Spain',\n",
    "          'Australia',\n",
    "          'Greece', \n",
    "          'China'])]"
   ]
  },
  {
   "cell_type": "code",
   "execution_count": 6,
   "metadata": {},
   "outputs": [],
   "source": [
    "#Create dfs for each medal \n",
    "Gold = df[df.Medal == 'Gold']\n",
    "Silver = df[df.Medal == 'Silver']\n",
    "Bronze = df[df.Medal == 'Bronze']"
   ]
  },
  {
   "cell_type": "code",
   "execution_count": 7,
   "metadata": {},
   "outputs": [],
   "source": [
    "#Create df grouped by Country\n",
    "Medal_Counts = df.groupby('Country', as_index = False).count()"
   ]
  },
  {
   "cell_type": "code",
   "execution_count": 8,
   "metadata": {},
   "outputs": [],
   "source": [
    "#Create dfs of the host countries grouped by country, counting the number of medals when they were hosting vs. not\n",
    "Hosting = Host_Winners.groupby(['Country'], as_index=False).count()\n",
    "Not_Hosting = Host_Countries_Other.groupby(['Country'], as_index=False).count()\n",
    "\n",
    "#Create a df of Host Countries from columns with medal counts from years they were hosting, not hosting, and the\n",
    "#percentage of medals won while hosting\n",
    "data = [Not_Hosting['Country'], Hosting['Medal'], Not_Hosting['Medal']]\n",
    "headers = [\"Country\", \"Hosting\", \"Not Hosting\"]\n",
    "\n",
    "df_both = pandas.concat(data, axis=1, keys=headers)\n",
    "\n",
    "df_both['Percentage while Hosting'] = (df_both['Hosting']/(df_both['Hosting']+df_both['Not Hosting']))*100\n"
   ]
  },
  {
   "cell_type": "code",
   "execution_count": 9,
   "metadata": {},
   "outputs": [],
   "source": [
    "#Create new df with number of medals won by each host country for each year. \n",
    "grouped = Host_Countries.groupby(['Year','Country'], as_index=False).count()\n",
    "\n",
    "condensed_grouped = grouped[['Year', 'Country', 'Medal']]"
   ]
  },
  {
   "cell_type": "code",
   "execution_count": 10,
   "metadata": {},
   "outputs": [],
   "source": [
    "#Create new column with Host Country based on the Year column\n",
    "conditions = [(grouped['Year'] == 1976),\n",
    "              (grouped['Year'] == 1980),\n",
    "              (grouped['Year'] == 1984),\n",
    "              (grouped['Year'] == 1988),\n",
    "              (grouped['Year'] == 1992),\n",
    "              (grouped['Year'] == 1996),\n",
    "              (grouped['Year'] == 2000),\n",
    "              (grouped['Year'] == 2004),\n",
    "              (grouped['Year'] == 2008)]\n",
    "\n",
    "#Mapping the city to the country. \n",
    "choices = ['Canada',\n",
    "          'Russia',\n",
    "          'United States',\n",
    "          'Korea, South',\n",
    "          'Spain',\n",
    "          'United States',\n",
    "          'Australia',\n",
    "          'Greece', \n",
    "          'China']\n",
    "\n",
    "grouped['Host_Country_New'] = np.select(conditions, choices, default = '0')\n",
    "\n",
    "#Create a new column with 0/1 options based on if the host country won the medal\n",
    "grouped[\"Host_Win_Bin\"] = np.where(grouped['Host_Country_New'] == grouped['Country'], '1', '0')"
   ]
  },
  {
   "cell_type": "code",
   "execution_count": 11,
   "metadata": {},
   "outputs": [],
   "source": [
    "#Create df to show how many of each type of medal the US won at each games\n",
    "grouped2 = Host_Countries.groupby(['Medal','Country', 'Year'], as_index=False).count()\n",
    "Country_grouped2 = grouped2[grouped2.Country == 'United States']\n",
    "US_grouped2 = Country_grouped2[['Medal', 'Year', 'Sport']]"
   ]
  },
  {
   "cell_type": "code",
   "execution_count": 12,
   "metadata": {},
   "outputs": [
    {
     "data": {
      "image/png": "[encoded data removed]",
      "text/plain": [
       "<Figure size 432x288 with 1 Axes>"
      ]
     },
     "metadata": {
      "needs_background": "light"
     },
     "output_type": "display_data"
    }
   ],
   "source": [
    "#Histogram of winners from all countries\n",
    "hist_win = thinkstats2.Hist(df.Country, label='Country')\n",
    "thinkplot.Hist(hist_win)\n",
    "thinkplot.Config(xlabel='Winning Country', ylabel='Count')"
   ]
  },
  {
   "cell_type": "code",
   "execution_count": 13,
   "metadata": {},
   "outputs": [
    {
     "data": {
      "image/png": "[encoded data removed]",
      "text/plain": [
       "<Figure size 432x288 with 1 Axes>"
      ]
     },
     "metadata": {
      "needs_background": "light"
     },
     "output_type": "display_data"
    }
   ],
   "source": [
    "#Histogram of host countries when they won while hosting vs not hosting\n",
    "host_hist = thinkstats2.Hist(Host_Winners.Country, label='Host Year')\n",
    "other_hist = thinkstats2.Hist(Host_Countries_Other.Country, label='Other Wins')\n",
    "\n",
    "width = 0.15\n",
    "thinkplot.PrePlot(2)\n",
    "thinkplot.Hist(host_hist, align='right', width=width, color = 'red')\n",
    "thinkplot.Hist(other_hist, align='left', width=width)\n",
    "thinkplot.Config(xlabel='Country', ylabel='Medals', ylim = (0,1500))"
   ]
  },
  {
   "cell_type": "code",
   "execution_count": 14,
   "metadata": {},
   "outputs": [
    {
     "data": {
      "image/png": "[encoded data removed]",
      "text/plain": [
       "<Figure size 432x288 with 1 Axes>"
      ]
     },
     "metadata": {
      "needs_background": "light"
     },
     "output_type": "display_data"
    }
   ],
   "source": [
    "#Histogram of the years where the hosts won medals\n",
    "hist_years = thinkstats2.Hist(Host_Winners.Year, label='Year')\n",
    "thinkplot.Hist(hist_years)\n",
    "thinkplot.Config(xlabel='Years', ylabel='Count')"
   ]
  },
  {
   "cell_type": "code",
   "execution_count": 15,
   "metadata": {},
   "outputs": [
    {
     "data": {
      "image/png": "[encoded data removed]",
      "text/plain": [
       "<Figure size 432x288 with 1 Axes>"
      ]
     },
     "metadata": {
      "needs_background": "light"
     },
     "output_type": "display_data"
    }
   ],
   "source": [
    "#Histogram of the sports in which winners represented the host country\n",
    "hist_sport = thinkstats2.Hist(Host_Winners.Sport, label='Sport')\n",
    "thinkplot.Hist(hist_sport)\n",
    "thinkplot.Config(xlabel='Sport', ylabel='Count')"
   ]
  },
  {
   "cell_type": "code",
   "execution_count": 16,
   "metadata": {},
   "outputs": [
    {
     "data": {
      "text/plain": [
       "<matplotlib.axes._subplots.AxesSubplot at 0x7f8aaca2c310>"
      ]
     },
     "execution_count": 16,
     "metadata": {},
     "output_type": "execute_result"
    },
    {
     "data": {
      "image/png": "[encoded data removed]",
      "text/plain": [
       "<Figure size 576x576 with 1 Axes>"
      ]
     },
     "metadata": {
      "needs_background": "light"
     },
     "output_type": "display_data"
    }
   ],
   "source": [
    "#Stacked Histogram showing the wins for host countries, when they did and didn't host\n",
    "Country_HostWin_table = pandas.crosstab(index=Host_Countries[\"Country\"], \n",
    "                          columns=Host_Countries[\"Host_Win\"])\n",
    "\n",
    "Country_HostWin_table.plot(kind=\"bar\", \n",
    "                 figsize=(8,8),\n",
    "                 stacked=True)"
   ]
  },
  {
   "cell_type": "code",
   "execution_count": 17,
   "metadata": {},
   "outputs": [
    {
     "data": {
      "text/html": [
       "<div>\n",
       "<style scoped>\n",
       "    .dataframe tbody tr th:only-of-type {\n",
       "        vertical-align: middle;\n",
       "    }\n",
       "\n",
       "    .dataframe tbody tr th {\n",
       "        vertical-align: top;\n",
       "    }\n",
       "\n",
       "    .dataframe thead th {\n",
       "        text-align: right;\n",
       "    }\n",
       "</style>\n",
       "<table border=\"1\" class=\"dataframe\">\n",
       "  <thead>\n",
       "    <tr style=\"text-align: right;\">\n",
       "      <th></th>\n",
       "      <th>City</th>\n",
       "      <th>Year</th>\n",
       "      <th>Sport</th>\n",
       "      <th>Discipline</th>\n",
       "      <th>Event</th>\n",
       "      <th>Athlete</th>\n",
       "      <th>Gender</th>\n",
       "      <th>Country_Code</th>\n",
       "      <th>Country</th>\n",
       "      <th>Event_gender</th>\n",
       "      <th>Medal</th>\n",
       "      <th>Host_Country</th>\n",
       "      <th>Host_Win</th>\n",
       "    </tr>\n",
       "  </thead>\n",
       "  <tbody>\n",
       "    <tr>\n",
       "      <th>count</th>\n",
       "      <td>15316</td>\n",
       "      <td>15316.0</td>\n",
       "      <td>15316</td>\n",
       "      <td>15316</td>\n",
       "      <td>15316</td>\n",
       "      <td>15316</td>\n",
       "      <td>15316</td>\n",
       "      <td>15316</td>\n",
       "      <td>15316</td>\n",
       "      <td>15316</td>\n",
       "      <td>15316</td>\n",
       "      <td>15316</td>\n",
       "      <td>15316</td>\n",
       "    </tr>\n",
       "    <tr>\n",
       "      <th>unique</th>\n",
       "      <td>9</td>\n",
       "      <td>9.0</td>\n",
       "      <td>28</td>\n",
       "      <td>41</td>\n",
       "      <td>293</td>\n",
       "      <td>11337</td>\n",
       "      <td>2</td>\n",
       "      <td>128</td>\n",
       "      <td>125</td>\n",
       "      <td>3</td>\n",
       "      <td>3</td>\n",
       "      <td>8</td>\n",
       "      <td>2</td>\n",
       "    </tr>\n",
       "    <tr>\n",
       "      <th>top</th>\n",
       "      <td>Beijing</td>\n",
       "      <td>2008.0</td>\n",
       "      <td>Aquatics</td>\n",
       "      <td>Athletics</td>\n",
       "      <td>hockey</td>\n",
       "      <td>PHELPS, Michael</td>\n",
       "      <td>Men</td>\n",
       "      <td>USA</td>\n",
       "      <td>United States</td>\n",
       "      <td>M</td>\n",
       "      <td>Bronze</td>\n",
       "      <td>United States</td>\n",
       "      <td>0</td>\n",
       "    </tr>\n",
       "    <tr>\n",
       "      <th>freq</th>\n",
       "      <td>2042</td>\n",
       "      <td>2042.0</td>\n",
       "      <td>2210</td>\n",
       "      <td>1523</td>\n",
       "      <td>817</td>\n",
       "      <td>16</td>\n",
       "      <td>9388</td>\n",
       "      <td>1992</td>\n",
       "      <td>1992</td>\n",
       "      <td>8817</td>\n",
       "      <td>5258</td>\n",
       "      <td>3318</td>\n",
       "      <td>13720</td>\n",
       "    </tr>\n",
       "  </tbody>\n",
       "</table>\n",
       "</div>"
      ],
      "text/plain": [
       "           City     Year     Sport Discipline   Event          Athlete Gender  \\\n",
       "count     15316  15316.0     15316      15316   15316            15316  15316   \n",
       "unique        9      9.0        28         41     293            11337      2   \n",
       "top     Beijing   2008.0  Aquatics  Athletics  hockey  PHELPS, Michael    Men   \n",
       "freq       2042   2042.0      2210       1523     817               16   9388   \n",
       "\n",
       "       Country_Code        Country Event_gender   Medal   Host_Country  \\\n",
       "count         15316          15316        15316   15316          15316   \n",
       "unique          128            125            3       3              8   \n",
       "top             USA  United States            M  Bronze  United States   \n",
       "freq           1992           1992         8817    5258           3318   \n",
       "\n",
       "       Host_Win  \n",
       "count     15316  \n",
       "unique        2  \n",
       "top           0  \n",
       "freq      13720  "
      ]
     },
     "execution_count": 17,
     "metadata": {},
     "output_type": "execute_result"
    }
   ],
   "source": [
    "#Descriptive Statistics\n",
    "df.describe()"
   ]
  },
  {
   "cell_type": "code",
   "execution_count": 18,
   "metadata": {},
   "outputs": [
    {
     "data": {
      "text/html": [
       "<div>\n",
       "<style scoped>\n",
       "    .dataframe tbody tr th:only-of-type {\n",
       "        vertical-align: middle;\n",
       "    }\n",
       "\n",
       "    .dataframe tbody tr th {\n",
       "        vertical-align: top;\n",
       "    }\n",
       "\n",
       "    .dataframe thead th {\n",
       "        text-align: right;\n",
       "    }\n",
       "</style>\n",
       "<table border=\"1\" class=\"dataframe\">\n",
       "  <thead>\n",
       "    <tr style=\"text-align: right;\">\n",
       "      <th></th>\n",
       "      <th>City</th>\n",
       "      <th>Year</th>\n",
       "      <th>Sport</th>\n",
       "      <th>Discipline</th>\n",
       "      <th>Event</th>\n",
       "      <th>Athlete</th>\n",
       "      <th>Gender</th>\n",
       "      <th>Country_Code</th>\n",
       "      <th>Country</th>\n",
       "      <th>Event_gender</th>\n",
       "      <th>Medal</th>\n",
       "      <th>Host_Country</th>\n",
       "      <th>Host_Win</th>\n",
       "    </tr>\n",
       "  </thead>\n",
       "  <tbody>\n",
       "    <tr>\n",
       "      <th>count</th>\n",
       "      <td>1596</td>\n",
       "      <td>1596.0</td>\n",
       "      <td>1596</td>\n",
       "      <td>1596</td>\n",
       "      <td>1596</td>\n",
       "      <td>1596</td>\n",
       "      <td>1596</td>\n",
       "      <td>1596</td>\n",
       "      <td>1596</td>\n",
       "      <td>1596</td>\n",
       "      <td>1596</td>\n",
       "      <td>1596</td>\n",
       "      <td>1596</td>\n",
       "    </tr>\n",
       "    <tr>\n",
       "      <th>unique</th>\n",
       "      <td>9</td>\n",
       "      <td>9.0</td>\n",
       "      <td>28</td>\n",
       "      <td>40</td>\n",
       "      <td>204</td>\n",
       "      <td>1388</td>\n",
       "      <td>2</td>\n",
       "      <td>8</td>\n",
       "      <td>8</td>\n",
       "      <td>3</td>\n",
       "      <td>3</td>\n",
       "      <td>8</td>\n",
       "      <td>1</td>\n",
       "    </tr>\n",
       "    <tr>\n",
       "      <th>top</th>\n",
       "      <td>Moscow</td>\n",
       "      <td>1980.0</td>\n",
       "      <td>Aquatics</td>\n",
       "      <td>Swimming</td>\n",
       "      <td>hockey</td>\n",
       "      <td>DITYATIN, Aleksandr</td>\n",
       "      <td>Men</td>\n",
       "      <td>USA</td>\n",
       "      <td>United States</td>\n",
       "      <td>M</td>\n",
       "      <td>Gold</td>\n",
       "      <td>United States</td>\n",
       "      <td>1</td>\n",
       "    </tr>\n",
       "    <tr>\n",
       "      <th>freq</th>\n",
       "      <td>442</td>\n",
       "      <td>442.0</td>\n",
       "      <td>340</td>\n",
       "      <td>218</td>\n",
       "      <td>128</td>\n",
       "      <td>8</td>\n",
       "      <td>889</td>\n",
       "      <td>593</td>\n",
       "      <td>593</td>\n",
       "      <td>811</td>\n",
       "      <td>734</td>\n",
       "      <td>593</td>\n",
       "      <td>1596</td>\n",
       "    </tr>\n",
       "  </tbody>\n",
       "</table>\n",
       "</div>"
      ],
      "text/plain": [
       "          City    Year     Sport Discipline   Event              Athlete  \\\n",
       "count     1596  1596.0      1596       1596    1596                 1596   \n",
       "unique       9     9.0        28         40     204                 1388   \n",
       "top     Moscow  1980.0  Aquatics   Swimming  hockey  DITYATIN, Aleksandr   \n",
       "freq       442   442.0       340        218     128                    8   \n",
       "\n",
       "       Gender Country_Code        Country Event_gender Medal   Host_Country  \\\n",
       "count    1596         1596           1596         1596  1596           1596   \n",
       "unique      2            8              8            3     3              8   \n",
       "top       Men          USA  United States            M  Gold  United States   \n",
       "freq      889          593            593          811   734            593   \n",
       "\n",
       "       Host_Win  \n",
       "count      1596  \n",
       "unique        1  \n",
       "top           1  \n",
       "freq       1596  "
      ]
     },
     "execution_count": 18,
     "metadata": {},
     "output_type": "execute_result"
    }
   ],
   "source": [
    "Host_Winners.describe()"
   ]
  },
  {
   "cell_type": "code",
   "execution_count": 19,
   "metadata": {},
   "outputs": [
    {
     "data": {
      "text/plain": [
       "0    13720\n",
       "1     1596\n",
       "Name: Host_Win, dtype: int64"
      ]
     },
     "execution_count": 19,
     "metadata": {},
     "output_type": "execute_result"
    }
   ],
   "source": [
    "#Count how many times a host country won a medal\n",
    "df.Host_Win.value_counts().sort_index()"
   ]
  },
  {
   "cell_type": "code",
   "execution_count": 20,
   "metadata": {},
   "outputs": [
    {
     "data": {
      "text/plain": [
       "0    0.895795\n",
       "1    0.104205\n",
       "Name: Host_Win, dtype: float64"
      ]
     },
     "execution_count": 20,
     "metadata": {},
     "output_type": "execute_result"
    }
   ],
   "source": [
    "#Find a percentage of medal winners that were from the host country\n",
    "df.Host_Win.value_counts(normalize=True)"
   ]
  },
  {
   "cell_type": "code",
   "execution_count": 21,
   "metadata": {},
   "outputs": [
    {
     "data": {
      "text/plain": [
       "United States    1992\n",
       "Russia           1659\n",
       "Germany          1317\n",
       "Australia         798\n",
       "China             679\n",
       "Name: Country, dtype: int64"
      ]
     },
     "execution_count": 21,
     "metadata": {},
     "output_type": "execute_result"
    }
   ],
   "source": [
    "#Top 5 Medal Counts by Country\n",
    "df.Country.value_counts().head(5)"
   ]
  },
  {
   "cell_type": "code",
   "execution_count": 22,
   "metadata": {},
   "outputs": [
    {
     "data": {
      "text/plain": [
       "Virgin Islands*    1\n",
       "Guyana             1\n",
       "Senegal            1\n",
       "Eritrea            1\n",
       "Bermuda*           1\n",
       "Name: Country, dtype: int64"
      ]
     },
     "execution_count": 22,
     "metadata": {},
     "output_type": "execute_result"
    }
   ],
   "source": [
    "#Bottom 5 Medal Counts by Country\n",
    "df.Country.value_counts().tail(5)"
   ]
  },
  {
   "cell_type": "code",
   "execution_count": 23,
   "metadata": {},
   "outputs": [
    {
     "data": {
      "text/plain": [
       "United States      1992\n",
       "Russia             1659\n",
       "Germany            1317\n",
       "Australia           798\n",
       "China               679\n",
       "                   ... \n",
       "Virgin Islands*       1\n",
       "Guyana                1\n",
       "Senegal               1\n",
       "Eritrea               1\n",
       "Bermuda*              1\n",
       "Name: Country, Length: 125, dtype: int64"
      ]
     },
     "execution_count": 23,
     "metadata": {},
     "output_type": "execute_result"
    }
   ],
   "source": [
    "#Medal Counts for all Countries\n",
    "df.Country.value_counts()"
   ]
  },
  {
   "cell_type": "code",
   "execution_count": 24,
   "metadata": {},
   "outputs": [
    {
     "data": {
      "text/plain": [
       "125"
      ]
     },
     "execution_count": 24,
     "metadata": {},
     "output_type": "execute_result"
    }
   ],
   "source": [
    "#Number of countries that have won a medal\n",
    "df['Country'].nunique()"
   ]
  },
  {
   "cell_type": "code",
   "execution_count": 25,
   "metadata": {},
   "outputs": [
    {
     "data": {
      "text/plain": [
       "1       22\n",
       "2       11\n",
       "3        6\n",
       "14       5\n",
       "21       4\n",
       "        ..\n",
       "388      1\n",
       "1317     1\n",
       "35       1\n",
       "34       1\n",
       "1659     1\n",
       "Name: Medal, Length: 68, dtype: int64"
      ]
     },
     "execution_count": 25,
     "metadata": {},
     "output_type": "execute_result"
    }
   ],
   "source": [
    "#How many countries won medals the same amount of times (i.e 11 Countries won 2 medals total)\n",
    "Medal_Counts.Medal.value_counts()"
   ]
  },
  {
   "cell_type": "code",
   "execution_count": 26,
   "metadata": {},
   "outputs": [
    {
     "data": {
      "text/plain": [
       "United States    593\n",
       "Russia           442\n",
       "China            184\n",
       "Australia        183\n",
       "Korea, South      77\n",
       "Spain             66\n",
       "Greece            31\n",
       "Canada            20\n",
       "Name: Country, dtype: int64"
      ]
     },
     "execution_count": 26,
     "metadata": {},
     "output_type": "execute_result"
    }
   ],
   "source": [
    "#Count number of medals won while hosting\n",
    "Host_Winners.Country.value_counts()"
   ]
  },
  {
   "cell_type": "code",
   "execution_count": 27,
   "metadata": {},
   "outputs": [
    {
     "name": "stdout",
     "output_type": "stream",
     "text": [
      "Mean of Medals won by the hosting country:  199.5\n",
      "Mean of Medals won by all countries:  122.528\n"
     ]
    }
   ],
   "source": [
    "#Calculate Mean of Medals won by the hosting country and by all countries\n",
    "HostMean = (Host_Winners.Country.value_counts().mean())\n",
    "TotalMean = (df.Country.value_counts().mean())\n",
    "print (\"Mean of Medals won by the hosting country: \", HostMean) \n",
    "print (\"Mean of Medals won by all countries: \", TotalMean)"
   ]
  },
  {
   "cell_type": "code",
   "execution_count": 28,
   "metadata": {},
   "outputs": [
    {
     "name": "stdout",
     "output_type": "stream",
     "text": [
      "Standard Deviation of Medals won by the hosting country:  209.62619792655414\n",
      "Standard Deviation of Medals won by all countries:  287.72325345832775\n"
     ]
    }
   ],
   "source": [
    "#Calculate Standard Deviation of Medals won by the hosting country and by all countries\n",
    "HostStd = (Host_Winners.Country.value_counts().std())\n",
    "TotalStd = (df.Country.value_counts().std())\n",
    "print (\"Standard Deviation of Medals won by the hosting country: \", HostStd) \n",
    "print (\"Standard Deviation of Medals won by all countries: \", TotalStd)"
   ]
  },
  {
   "cell_type": "code",
   "execution_count": 29,
   "metadata": {},
   "outputs": [
    {
     "name": "stdout",
     "output_type": "stream",
     "text": [
      "Variation of Medals won by the hosting country:  43943.142857142855\n",
      "Variation of Medals won by all countries:  82784.67058064512\n"
     ]
    }
   ],
   "source": [
    "#Calculate Variation of Medals won by the hosting country and by all countries\n",
    "HostVar = (Host_Winners.Country.value_counts().var())\n",
    "TotalVar = (df.Country.value_counts().var())\n",
    "print (\"Variation of Medals won by the hosting country: \", HostVar) \n",
    "print (\"Variation of Medals won by all countries: \", TotalVar)"
   ]
  },
  {
   "cell_type": "code",
   "execution_count": 30,
   "metadata": {},
   "outputs": [
    {
     "data": {
      "text/plain": [
       "Aquatics      0.144294\n",
       "Athletics     0.099438\n",
       "Rowing        0.089906\n",
       "Hockey        0.053343\n",
       "Gymnastics    0.051123\n",
       "Name: Sport, dtype: float64"
      ]
     },
     "execution_count": 30,
     "metadata": {},
     "output_type": "execute_result"
    }
   ],
   "source": [
    "#Percentage of events each sport makes up of the games\n",
    "df.Sport.value_counts(normalize=True).head(5)"
   ]
  },
  {
   "cell_type": "code",
   "execution_count": 31,
   "metadata": {},
   "outputs": [
    {
     "data": {
      "text/plain": [
       "Aquatics      0.213033\n",
       "Athletics     0.099624\n",
       "Rowing        0.080827\n",
       "Hockey        0.080201\n",
       "Gymnastics    0.066416\n",
       "Name: Sport, dtype: float64"
      ]
     },
     "execution_count": 31,
     "metadata": {},
     "output_type": "execute_result"
    }
   ],
   "source": [
    "#Percentage of Host Winners per Sport\n",
    "Host_Winners.Sport.value_counts(normalize=True).head(5)"
   ]
  },
  {
   "cell_type": "code",
   "execution_count": 32,
   "metadata": {},
   "outputs": [
    {
     "data": {
      "text/plain": [
       "1980.0    0.276942\n",
       "1984.0    0.208647\n",
       "1996.0    0.162907\n",
       "2008.0    0.115288\n",
       "2000.0    0.114662\n",
       "1988.0    0.048246\n",
       "1992.0    0.041353\n",
       "2004.0    0.019424\n",
       "1976.0    0.012531\n",
       "Name: Year, dtype: float64"
      ]
     },
     "execution_count": 32,
     "metadata": {},
     "output_type": "execute_result"
    }
   ],
   "source": [
    "#Percentage of Host Winners per Year\n",
    "Host_Winners.Year.value_counts(normalize=True)"
   ]
  },
  {
   "cell_type": "code",
   "execution_count": 33,
   "metadata": {},
   "outputs": [
    {
     "data": {
      "text/plain": [
       "United States    0.371554\n",
       "Russia           0.276942\n",
       "China            0.115288\n",
       "Australia        0.114662\n",
       "Korea, South     0.048246\n",
       "Spain            0.041353\n",
       "Greece           0.019424\n",
       "Canada           0.012531\n",
       "Name: Country, dtype: float64"
      ]
     },
     "execution_count": 33,
     "metadata": {},
     "output_type": "execute_result"
    }
   ],
   "source": [
    "#Percentage each host country has won\n",
    "Host_Winners.Country.value_counts(normalize=True)"
   ]
  },
  {
   "cell_type": "code",
   "execution_count": 40,
   "metadata": {},
   "outputs": [
    {
     "ename": "NameError",
     "evalue": "name 'hist_host' is not defined",
     "output_type": "error",
     "traceback": [
      "\u001b[0;31m---------------------------------------------------------------------------\u001b[0m",
      "\u001b[0;31mNameError\u001b[0m                                 Traceback (most recent call last)",
      "\u001b[0;32m<ipython-input-40-7dfff54f09e8>\u001b[0m in \u001b[0;36m<module>\u001b[0;34m\u001b[0m\n\u001b[1;32m      1\u001b[0m \u001b[0;31m#Create a probability mass function of the likelihood of the which host country would have won\u001b[0m\u001b[0;34m\u001b[0m\u001b[0;34m\u001b[0m\u001b[0;34m\u001b[0m\u001b[0m\n\u001b[0;32m----> 2\u001b[0;31m \u001b[0mn_host\u001b[0m \u001b[0;34m=\u001b[0m \u001b[0mhist_host\u001b[0m\u001b[0;34m.\u001b[0m\u001b[0mTotal\u001b[0m\u001b[0;34m(\u001b[0m\u001b[0;34m)\u001b[0m\u001b[0;34m\u001b[0m\u001b[0;34m\u001b[0m\u001b[0m\n\u001b[0m\u001b[1;32m      3\u001b[0m \u001b[0mpmf_host\u001b[0m \u001b[0;34m=\u001b[0m \u001b[0mhist_host\u001b[0m\u001b[0;34m.\u001b[0m\u001b[0mCopy\u001b[0m\u001b[0;34m(\u001b[0m\u001b[0;34m)\u001b[0m\u001b[0;34m\u001b[0m\u001b[0;34m\u001b[0m\u001b[0m\n\u001b[1;32m      4\u001b[0m \u001b[0;32mfor\u001b[0m \u001b[0mx\u001b[0m\u001b[0;34m,\u001b[0m \u001b[0mfreq\u001b[0m \u001b[0;32min\u001b[0m \u001b[0mhist_host\u001b[0m\u001b[0;34m.\u001b[0m\u001b[0mItems\u001b[0m\u001b[0;34m(\u001b[0m\u001b[0;34m)\u001b[0m\u001b[0;34m:\u001b[0m\u001b[0;34m\u001b[0m\u001b[0;34m\u001b[0m\u001b[0m\n\u001b[1;32m      5\u001b[0m     \u001b[0mpmf_host\u001b[0m\u001b[0;34m[\u001b[0m\u001b[0mx\u001b[0m\u001b[0;34m]\u001b[0m \u001b[0;34m=\u001b[0m \u001b[0mfreq\u001b[0m \u001b[0;34m/\u001b[0m \u001b[0mn_host\u001b[0m\u001b[0;34m\u001b[0m\u001b[0;34m\u001b[0m\u001b[0m\n",
      "\u001b[0;31mNameError\u001b[0m: name 'hist_host' is not defined"
     ]
    }
   ],
   "source": [
    "#Create a probability mass function of the likelihood of the which host country would have won\n",
    "n_host = hist_host.Total()\n",
    "pmf_host = hist_host.Copy()\n",
    "for x, freq in hist_host.Items():\n",
    "    pmf_host[x] = freq / n_host\n",
    "    \n",
    "thinkplot.Hist(pmf_host, align = 'left')\n",
    "thinkplot.Config(xlabel='Winning Country', ylabel='PMF')"
   ]
  },
  {
   "cell_type": "code",
   "execution_count": 41,
   "metadata": {},
   "outputs": [
    {
     "data": {
      "image/png": "[encoded data removed]",
      "text/plain": [
       "<Figure size 864x432 with 1 Axes>"
      ]
     },
     "metadata": {
      "needs_background": "light"
     },
     "output_type": "display_data"
    }
   ],
   "source": [
    "#PMF of the host countries when they won while hosting vs when they won while not hosting \n",
    "Host_pmf = thinkstats2.Pmf(Host_Winners.Country, label='Hosts')\n",
    "Other_pmf = thinkstats2.Pmf(Host_Countries_Other.Country, label='Other')\n",
    "\n",
    "width=0.45\n",
    "thinkplot.PrePlot(2, cols=2)\n",
    "thinkplot.Hist(Host_pmf, align='right', width=width)\n",
    "thinkplot.Hist(Other_pmf, align='left', width=width)\n",
    "thinkplot.Config(xlabel='Country', ylabel='PMF')\n"
   ]
  },
  {
   "cell_type": "code",
   "execution_count": 42,
   "metadata": {},
   "outputs": [
    {
     "data": {
      "image/png": "[encoded data removed]",
      "text/plain": [
       "<Figure size 432x288 with 1 Axes>"
      ]
     },
     "metadata": {
      "needs_background": "light"
     },
     "output_type": "display_data"
    }
   ],
   "source": [
    "#CDF of number of medals won by all of the countries. This indicates that \n",
    "total_grouped = df.groupby(['Year','Country'], as_index=False).count()\n",
    "others_grouped = Other_Countries.groupby(['Year','Country'], as_index=False).count()\n",
    "\n",
    "cdf_total = thinkstats2.Cdf(total_grouped.Medal, label='All Countries')\n",
    "cdf_hosts = thinkstats2.Cdf(condensed_grouped.Medal, label='Host Countries')\n",
    "cdf_others = thinkstats2.Cdf(others_grouped.Medal, label='Other Countries')\n",
    "\n",
    "thinkplot.PrePlot(3)\n",
    "thinkplot.Cdfs([cdf_total, cdf_hosts, cdf_others])\n",
    "thinkplot.Config(xlabel='Medals', ylabel='CDF', loc='center right', legend = True)"
   ]
  },
  {
   "cell_type": "code",
   "execution_count": 43,
   "metadata": {},
   "outputs": [
    {
     "data": {
      "image/png": "[encoded data removed]",
      "text/plain": [
       "<Figure size 432x288 with 1 Axes>"
      ]
     },
     "metadata": {
      "needs_background": "light"
     },
     "output_type": "display_data"
    }
   ],
   "source": [
    "thinkplot.Scatter('Country', 'Medal', data = Medal_Counts, alpha=1.0)\n",
    "\n",
    "thinkplot.Config(xlabel='Country',\n",
    "                 ylabel='Medals',\n",
    "                 legend = False)"
   ]
  },
  {
   "cell_type": "code",
   "execution_count": 44,
   "metadata": {},
   "outputs": [
    {
     "data": {
      "image/png": "[encoded data removed]",
      "text/plain": [
       "<Figure size 432x288 with 1 Axes>"
      ]
     },
     "metadata": {
      "needs_background": "light"
     },
     "output_type": "display_data"
    }
   ],
   "source": [
    "Hosting, Not_Hosting = df_both['Hosting'], df_both['Not Hosting']\n",
    "\n",
    "Hosting = thinkstats2.Jitter(Hosting)\n",
    "Not_Hosting = thinkstats2.Jitter(Not_Hosting)\n",
    "\n",
    "thinkplot.Scatter(Hosting, Not_Hosting, alpha=1.0)\n",
    "\n",
    "thinkplot.Config(xlabel='Hosting',\n",
    "                 ylabel='Not Hosting',\n",
    "                 legend = False)"
   ]
  },
  {
   "cell_type": "code",
   "execution_count": 45,
   "metadata": {},
   "outputs": [
    {
     "data": {
      "text/plain": [
       "85974.20043526741"
      ]
     },
     "execution_count": 45,
     "metadata": {},
     "output_type": "execute_result"
    }
   ],
   "source": [
    "def Cov(xs, ys, meanx=None, meany=None):\n",
    "    xs = np.asarray(xs)\n",
    "    ys = np.asarray(ys)\n",
    "\n",
    "    if meanx is None:\n",
    "        meanx = np.mean(xs)\n",
    "    if meany is None:\n",
    "        meany = np.mean(ys)\n",
    "\n",
    "    cov = np.dot(xs-meanx, ys-meany) / len(xs)\n",
    "    return cov\n",
    "\n",
    "Cov(Hosting, Not_Hosting)"
   ]
  },
  {
   "cell_type": "code",
   "execution_count": 46,
   "metadata": {},
   "outputs": [
    {
     "data": {
      "text/plain": [
       "0.9801637425579175"
      ]
     },
     "execution_count": 46,
     "metadata": {},
     "output_type": "execute_result"
    }
   ],
   "source": [
    "def Corr(xs, ys):\n",
    "    xs = np.asarray(xs)\n",
    "    ys = np.asarray(ys)\n",
    "\n",
    "    meanx, varx = thinkstats2.MeanVar(xs)\n",
    "    meany, vary = thinkstats2.MeanVar(ys)\n",
    "\n",
    "    corr = Cov(xs, ys, meanx, meany) / np.sqrt(varx * vary)\n",
    "    return corr\n",
    "\n",
    "Corr(Hosting, Not_Hosting)"
   ]
  },
  {
   "cell_type": "code",
   "execution_count": 47,
   "metadata": {},
   "outputs": [
    {
     "data": {
      "text/plain": [
       "0.9047619047619048"
      ]
     },
     "execution_count": 47,
     "metadata": {},
     "output_type": "execute_result"
    }
   ],
   "source": [
    "def SpearmanCorr(xs, ys):\n",
    "    xs = pandas.Series(xs)\n",
    "    ys = pandas.Series(ys)\n",
    "    return xs.corr(ys, method='spearman')\n",
    "\n",
    "SpearmanCorr(Hosting, Not_Hosting)"
   ]
  },
  {
   "cell_type": "code",
   "execution_count": 57,
   "metadata": {},
   "outputs": [
    {
     "data": {
      "image/png": "[encoded data removed]",
      "text/plain": [
       "<Figure size 432x288 with 1 Axes>"
      ]
     },
     "metadata": {
      "needs_background": "light"
     },
     "output_type": "display_data"
    }
   ],
   "source": [
    "#Scatterplot with years as the Y axis, medals won as x-axis, color coded by country\n",
    "Russia = condensed_grouped[condensed_grouped.Country == 'Russia']\n",
    "Australia = condensed_grouped[condensed_grouped.Country == 'Australia']\n",
    "Canada = condensed_grouped[condensed_grouped.Country == 'Canada']\n",
    "SKorea = condensed_grouped[condensed_grouped.Country == 'Korea, South']\n",
    "Spain = condensed_grouped[condensed_grouped.Country == 'Spain']\n",
    "US = condensed_grouped[condensed_grouped.Country == 'United States']\n",
    "Greece = condensed_grouped[condensed_grouped.Country == 'Greece']\n",
    "China = condensed_grouped[condensed_grouped.Country == 'China']\n",
    "\n",
    "thinkplot.PrePlot(8)\n",
    "thinkplot.Scatter('Year', 'Medal', data = Russia, alpha=1.0, color = 'red', label = 'Russia')\n",
    "thinkplot.Scatter('Year', 'Medal', data = Australia, alpha=1.0, color = 'orange', label = 'Australia')\n",
    "thinkplot.Scatter('Year', 'Medal', data = Canada, alpha=1.0, color = 'pink', label = 'Canada')\n",
    "thinkplot.Scatter('Year', 'Medal', data = SKorea, alpha=1.0, color = 'black', label = 'South Korea')\n",
    "thinkplot.Scatter('Year', 'Medal', data = Spain, alpha=1.0, color = 'yellow', label = 'Spain')\n",
    "thinkplot.Scatter('Year', 'Medal', data = US, alpha=1.0, color = 'blue', label = 'United States')\n",
    "thinkplot.Scatter('Year', 'Medal', data = Greece, alpha=1.0, color = 'green', label = 'Greece')\n",
    "thinkplot.Scatter('Year', 'Medal', data = China, alpha=1.0, color = 'purple', label = 'China')\n",
    "\n",
    "thinkplot.Config(xlabel='Year',\n",
    "                 ylabel='Medals',\n",
    "                 axis=[1972, 2010, 0, 500],\n",
    "                 legend = False)\n"
   ]
  },
  {
   "cell_type": "code",
   "execution_count": 56,
   "metadata": {},
   "outputs": [
    {
     "data": {
      "image/png": "[encoded data removed]",
      "text/plain": [
       "<Figure size 432x288 with 1 Axes>"
      ]
     },
     "metadata": {
      "needs_background": "light"
     },
     "output_type": "display_data"
    }
   ],
   "source": [
    "#Line graph with x axis as the year, y axis as number of medals, and different colored lines for each host country\n",
    "\n",
    "thinkplot.PrePlot(8)\n",
    "thinkplot.Plot('Year', 'Medal', data = Russia, alpha=1.0, color = 'red')\n",
    "thinkplot.Plot('Year', 'Medal', data = Australia, alpha=1.0, color = 'orange')\n",
    "thinkplot.Plot('Year', 'Medal', data = Canada, alpha=1.0, color = 'pink')\n",
    "thinkplot.Plot('Year', 'Medal', data = SKorea, alpha=1.0, color = 'black')\n",
    "thinkplot.Plot('Year', 'Medal', data = Spain, alpha=1.0, color = 'yellow')\n",
    "thinkplot.Plot('Year', 'Medal', data = US, alpha=1.0, color = 'blue')\n",
    "thinkplot.Plot('Year', 'Medal', data = Greece, alpha=1.0, color = 'green')\n",
    "thinkplot.Plot('Year', 'Medal', data = China, alpha=1.0, color = 'purple')\n",
    "\n",
    "thinkplot.Config(xlabel='Year',\n",
    "                 ylabel='Medals',\n",
    "                 axis=[1972, 2010, 0, 500],\n",
    "                 legend=True)"
   ]
  },
  {
   "cell_type": "code",
   "execution_count": 50,
   "metadata": {},
   "outputs": [
    {
     "data": {
      "image/png": "[encoded data removed]",
      "text/plain": [
       "<Figure size 432x288 with 1 Axes>"
      ]
     },
     "metadata": {
      "needs_background": "light"
     },
     "output_type": "display_data"
    }
   ],
   "source": [
    "Gold = US_grouped2[US_grouped2.Medal == 'Gold']\n",
    "Silver = US_grouped2[US_grouped2.Medal == 'Silver']\n",
    "Bronze = US_grouped2[US_grouped2.Medal == 'Bronze']\n",
    "\n",
    "thinkplot.PrePlot(3)\n",
    "thinkplot.Scatter('Year', 'Sport', data = Gold, alpha=1.0, color = 'yellow', label = 'Gold')\n",
    "thinkplot.Scatter('Year', 'Sport', data = Silver, alpha=1.0, color = 'grey', label = 'Silver')\n",
    "thinkplot.Scatter('Year', 'Sport', data = Bronze, alpha=1.0, color = 'brown', label = 'Bronze')\n",
    "\n",
    "thinkplot.Config(xlabel='Year',\n",
    "                 ylabel='Medals',\n",
    "                 axis=[1972, 2010, 0, 200],\n",
    "                 legend=True)"
   ]
  },
  {
   "cell_type": "code",
   "execution_count": 51,
   "metadata": {},
   "outputs": [
    {
     "data": {
      "image/png": "[encoded data removed]",
      "text/plain": [
       "<Figure size 432x288 with 1 Axes>"
      ]
     },
     "metadata": {
      "needs_background": "light"
     },
     "output_type": "display_data"
    }
   ],
   "source": [
    "thinkplot.PrePlot(3)\n",
    "thinkplot.Plot('Year', 'Sport', data = Gold, alpha=1.0, color = 'yellow', label = 'Gold')\n",
    "thinkplot.Plot('Year', 'Sport', data = Silver, alpha=1.0, color = 'grey', label = 'Silver')\n",
    "thinkplot.Plot('Year', 'Sport', data = Bronze, alpha=1.0, color = 'brown', label = 'Bronze')\n",
    "\n",
    "thinkplot.Config(xlabel='Year',\n",
    "                 ylabel='Medals',\n",
    "                 axis=[1972, 2010, 0, 200],\n",
    "                 legend=True)"
   ]
  },
  {
   "cell_type": "code",
   "execution_count": 52,
   "metadata": {},
   "outputs": [
    {
     "data": {
      "image/png": "[encoded data removed]",
      "text/plain": [
       "<Figure size 432x288 with 1 Axes>"
      ]
     },
     "metadata": {
      "needs_background": "light"
     },
     "output_type": "display_data"
    }
   ],
   "source": [
    "#Exponential Distribution of the medals won for All Countries\n",
    "thinkplot.Cdf(cdf_total, complement=True)\n",
    "thinkplot.Config(xlabel='Medals',\n",
    "                 ylabel='CCDF', yscale='log', loc='upper right')"
   ]
  },
  {
   "cell_type": "code",
   "execution_count": 53,
   "metadata": {},
   "outputs": [],
   "source": [
    "#Assign the Dependent and Explanatory variables for simple regression\n",
    "Dependent = grouped.Medal\n",
    "Explanatory = grouped.Host_Win_Bin"
   ]
  },
  {
   "cell_type": "code",
   "execution_count": 54,
   "metadata": {},
   "outputs": [
    {
     "data": {
      "text/html": [
       "<table class=\"simpletable\">\n",
       "<caption>OLS Regression Results</caption>\n",
       "<tr>\n",
       "  <th>Dep. Variable:</th>          <td>Medal</td>      <th>  R-squared:         </th> <td>   0.106</td>\n",
       "</tr>\n",
       "<tr>\n",
       "  <th>Model:</th>                   <td>OLS</td>       <th>  Adj. R-squared:    </th> <td>   0.092</td>\n",
       "</tr>\n",
       "<tr>\n",
       "  <th>Method:</th>             <td>Least Squares</td>  <th>  F-statistic:       </th> <td>   7.373</td>\n",
       "</tr>\n",
       "<tr>\n",
       "  <th>Date:</th>             <td>Sat, 21 Nov 2020</td> <th>  Prob (F-statistic):</th>  <td>0.00857</td>\n",
       "</tr>\n",
       "<tr>\n",
       "  <th>Time:</th>                 <td>15:58:01</td>     <th>  Log-Likelihood:    </th> <td> -380.74</td>\n",
       "</tr>\n",
       "<tr>\n",
       "  <th>No. Observations:</th>      <td>    64</td>      <th>  AIC:               </th> <td>   765.5</td>\n",
       "</tr>\n",
       "<tr>\n",
       "  <th>Df Residuals:</th>          <td>    62</td>      <th>  BIC:               </th> <td>   769.8</td>\n",
       "</tr>\n",
       "<tr>\n",
       "  <th>Df Model:</th>              <td>     1</td>      <th>                     </th>     <td> </td>   \n",
       "</tr>\n",
       "<tr>\n",
       "  <th>Covariance Type:</th>      <td>nonrobust</td>    <th>                     </th>     <td> </td>   \n",
       "</tr>\n",
       "</table>\n",
       "<table class=\"simpletable\">\n",
       "<tr>\n",
       "          <td></td>             <th>coef</th>     <th>std err</th>      <th>t</th>      <th>P>|t|</th>  <th>[0.025</th>    <th>0.975]</th>  \n",
       "</tr>\n",
       "<tr>\n",
       "  <th>Intercept</th>         <td>   85.3091</td> <td>   12.709</td> <td>    6.712</td> <td> 0.000</td> <td>   59.904</td> <td>  110.715</td>\n",
       "</tr>\n",
       "<tr>\n",
       "  <th>Host_Win_Bin[T.1]</th> <td>   92.0242</td> <td>   33.891</td> <td>    2.715</td> <td> 0.009</td> <td>   24.276</td> <td>  159.772</td>\n",
       "</tr>\n",
       "</table>\n",
       "<table class=\"simpletable\">\n",
       "<tr>\n",
       "  <th>Omnibus:</th>       <td>11.267</td> <th>  Durbin-Watson:     </th> <td>   2.322</td>\n",
       "</tr>\n",
       "<tr>\n",
       "  <th>Prob(Omnibus):</th> <td> 0.004</td> <th>  Jarque-Bera (JB):  </th> <td>  11.729</td>\n",
       "</tr>\n",
       "<tr>\n",
       "  <th>Skew:</th>          <td> 1.027</td> <th>  Prob(JB):          </th> <td> 0.00284</td>\n",
       "</tr>\n",
       "<tr>\n",
       "  <th>Kurtosis:</th>      <td> 3.426</td> <th>  Cond. No.          </th> <td>    2.94</td>\n",
       "</tr>\n",
       "</table><br/><br/>Warnings:<br/>[1] Standard Errors assume that the covariance matrix of the errors is correctly specified."
      ],
      "text/plain": [
       "<class 'statsmodels.iolib.summary.Summary'>\n",
       "\"\"\"\n",
       "                            OLS Regression Results                            \n",
       "==============================================================================\n",
       "Dep. Variable:                  Medal   R-squared:                       0.106\n",
       "Model:                            OLS   Adj. R-squared:                  0.092\n",
       "Method:                 Least Squares   F-statistic:                     7.373\n",
       "Date:                Sat, 21 Nov 2020   Prob (F-statistic):            0.00857\n",
       "Time:                        15:58:01   Log-Likelihood:                -380.74\n",
       "No. Observations:                  64   AIC:                             765.5\n",
       "Df Residuals:                      62   BIC:                             769.8\n",
       "Df Model:                           1                                         \n",
       "Covariance Type:            nonrobust                                         \n",
       "=====================================================================================\n",
       "                        coef    std err          t      P>|t|      [0.025      0.975]\n",
       "-------------------------------------------------------------------------------------\n",
       "Intercept            85.3091     12.709      6.712      0.000      59.904     110.715\n",
       "Host_Win_Bin[T.1]    92.0242     33.891      2.715      0.009      24.276     159.772\n",
       "==============================================================================\n",
       "Omnibus:                       11.267   Durbin-Watson:                   2.322\n",
       "Prob(Omnibus):                  0.004   Jarque-Bera (JB):               11.729\n",
       "Skew:                           1.027   Prob(JB):                      0.00284\n",
       "Kurtosis:                       3.426   Cond. No.                         2.94\n",
       "==============================================================================\n",
       "\n",
       "Warnings:\n",
       "[1] Standard Errors assume that the covariance matrix of the errors is correctly specified.\n",
       "\"\"\""
      ]
     },
     "execution_count": 54,
     "metadata": {},
     "output_type": "execute_result"
    }
   ],
   "source": [
    "#Calculate simple regression \n",
    "formula = 'Medal ~ Host_Win_Bin'\n",
    "model = smf.ols(formula, data=grouped)\n",
    "results = model.fit()\n",
    "results.summary()"
   ]
  },
  {
   "cell_type": "code",
   "execution_count": null,
   "metadata": {},
   "outputs": [],
   "source": []
  },
  {
   "cell_type": "code",
   "execution_count": null,
   "metadata": {},
   "outputs": [],
   "source": []
  }
 ],
 "metadata": {
  "kernelspec": {
   "display_name": "Python 3",
   "language": "python",
   "name": "python3"
  },
  "language_info": {
   "codemirror_mode": {
    "name": "ipython",
    "version": 3
   },
   "file_extension": ".py",
   "mimetype": "text/x-python",
   "name": "python",
   "nbconvert_exporter": "python",
   "pygments_lexer": "ipython3",
   "version": "3.8.3"
  }
 },
 "nbformat": 4,
 "nbformat_minor": 4
}
